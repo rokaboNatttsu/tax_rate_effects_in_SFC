{
 "cells": [
  {
   "cell_type": "code",
   "execution_count": 1,
   "metadata": {},
   "outputs": [],
   "source": [
    "using StatsPlots"
   ]
  },
  {
   "cell_type": "code",
   "execution_count": 2,
   "metadata": {},
   "outputs": [
    {
     "data": {
      "text/plain": [
       "12.916666666666668"
      ]
     },
     "metadata": {},
     "output_type": "display_data"
    }
   ],
   "source": [
    "TIME = 300\n",
    "α1, α2, β, γ1, γ2, δ, ϵ = 0.5, 0.05, 0.7, 0.05, 0.8, 0.005, 0.3\n",
    "C, I, G, W, P, Pf, Ph, T = zeros(TIME), zeros(TIME), zeros(TIME), zeros(TIME), zeros(TIME), zeros(TIME), zeros(TIME), zeros(TIME)\n",
    "ΔH, ΔK, H, K = zeros(TIME), zeros(TIME), zeros(TIME), zeros(TIME)\n",
    "HpY = zeros(TIME)\n",
    "G0, K0, H0 = 1.0, 1.0, 1.0\n",
    "G, K[1], H[1], C[1] = G0.*exp.(δ.*(0:(TIME-1))), K0, H0, (1-ϵ)/ϵ*G0+α2*H0\n",
    "T[1] = ϵ*(C[1]+G0)\n",
    "Ph[1] = (1 - β)*(C[1]+G0)\n",
    "Pf[1] = (1-γ1)/(1-γ2)*(C[1]+G0)+(γ1-γ2)/(1-γ2)*K0\n",
    "I[1] = Pf[1]\n",
    "P[1] = Pf[1] + Ph[1]\n",
    "W[1] = β*(C[1]+G0)\n",
    "ΔH[1] = G0-T[1]\n",
    "ΔK[1] = 1/(1 - γ1)*(I[1] - γ1*K0)"
   ]
  },
  {
   "cell_type": "code",
   "execution_count": 4,
   "metadata": {},
   "outputs": [
    {
     "data": {
      "text/plain": [
       "\"c:\\\\Users\\\\user\\\\OneDrive\\\\ドキュメント\\\\jupyter\\\\SFC_projects\\\\tax_rate_effects_in_SFC\\\\figs\\\\H÷Y.png\""
      ]
     },
     "metadata": {},
     "output_type": "display_data"
    }
   ],
   "source": [
    "function run(ϵ1)\n",
    "    for t=2:TIME\n",
    "        if t < TIME*2÷3 + 1\n",
    "            C[t] = (1 - ϵ)*(W[t-1] + α1*Ph[t-1]) + α2*H[t-1]\n",
    "        else\n",
    "            C[t] = (1 - ϵ1)*(W[t-1] + α1*Ph[t-1]) + α2*H[t-1]\n",
    "        end\n",
    "        I[t] = max(0, C[t] + G[t] + (γ1 - γ2)*K[t-1])\n",
    "        W[t] = β*(C[t] + G[t])\n",
    "        P[t] = C[t] + G[t] + I[t] - W[t]\n",
    "        Pf[t] = I[t]\n",
    "        Ph[t] = P[t] - Pf[t]\n",
    "        if t < TIME*2÷3\n",
    "            T[t] = ϵ*(W[t] + Ph[t])\n",
    "        else\n",
    "            T[t] = ϵ1*(W[t] + Ph[t])\n",
    "        end\n",
    "        ΔH[t] = G[t] - T[t]\n",
    "        ΔK[t] = I[t] - γ1*K[t-1]\n",
    "        H[t] = H[t-1] + ΔH[t]\n",
    "        K[t] = K[t-1] + ΔK[t]\n",
    "\n",
    "        HpY[t] = H[t]/(C[t] + I[t] + G[t])\n",
    "    end\n",
    "end\n",
    "ϵ_min, step, ϵ_max = 0.1, 0.1, 0.5\n",
    "s = (round(Int, TIME÷1.7)-TIME*2÷3):(TIME-TIME*2÷3)\n",
    "function ϵs_plots(X, name)\n",
    "    plot(s,zeros(length(s)), color=\"white\", label=nothing, title=\"variable=\"*name*\", ϵ=$ϵ\")\n",
    "    for ϵ1=ϵ_min:step:ϵ_max\n",
    "        Δϵ = (10*ϵ1 - 10*ϵ)/10\n",
    "        run(ϵ1)\n",
    "        plot!(s, X[round(Int, TIME÷1.7):TIME], label=\"Δϵ=$Δϵ\")\n",
    "    end\n",
    "    savefig(\"figs/\"*name*\".png\")\n",
    "end\n",
    "ϵs_plots(C, \"C\")\n",
    "ϵs_plots(T, \"T\")\n",
    "ϵs_plots(I, \"I\")\n",
    "ϵs_plots(W, \"W\")\n",
    "ϵs_plots(P, \"P\")\n",
    "ϵs_plots(Pf, \"Pf\")\n",
    "ϵs_plots(Ph, \"Ph\")\n",
    "ϵs_plots(ΔH, \"ΔH\")\n",
    "ϵs_plots(ΔK, \"ΔK\")\n",
    "ϵs_plots(H, \"H\")\n",
    "ϵs_plots(K, \"K\")\n",
    "ϵs_plots(HpY, \"H÷Y\")"
   ]
  },
  {
   "cell_type": "code",
   "execution_count": null,
   "metadata": {},
   "outputs": [],
   "source": []
  }
 ],
 "metadata": {
  "kernelspec": {
   "display_name": "Julia 1.10.5",
   "language": "julia",
   "name": "julia-1.10"
  },
  "language_info": {
   "file_extension": ".jl",
   "mimetype": "application/julia",
   "name": "julia",
   "version": "1.10.5"
  }
 },
 "nbformat": 4,
 "nbformat_minor": 2
}
